{
 "cells": [
  {
   "cell_type": "code",
   "execution_count": 42,
   "id": "9ee8ad62-6dc9-4105-b463-523bb4d84814",
   "metadata": {},
   "outputs": [
    {
     "name": "stdout",
     "output_type": "stream",
     "text": [
      "Go for it\n",
      "Excel-Files created\n"
     ]
    }
   ],
   "source": [
    "from openpyxl import Workbook\n",
    "from openpyxl.styles import Font\n",
    "from openpyxl.styles.borders import Border, Side\n",
    "from openpyxl.styles import PatternFill, Alignment\n",
    "import datetime\n",
    "import random\n",
    "\n",
    "# Die folgenden imports stammen aus der Datei ../00_common/common.py\n",
    "\n",
    "import sys\n",
    "sys.path.append(\"../00_common\")\n",
    "import common\n",
    "\n",
    "def get_data():\n",
    "    # Define Persons\n",
    "    l_persons = []\n",
    "    with open(\"persons_1000.csv\", \"r\") as file:\n",
    "        for line in file:\n",
    "            line = line.strip()\n",
    "            line = line.split(\";\")\n",
    "            fname, name, street, str_num, zip, city, tel, sex = line\n",
    "            if sex == \"f\":\n",
    "                sex = \"w\"\n",
    "            person = fname + \" \" + name + \";\" + street + \" \" + str_num + \";\" + zip + \" \" + city + \";\" + sex\n",
    "            l_persons.append(person)\n",
    "\n",
    "    l_countries = []\n",
    "    with open (\"countries.csv\", \"r\") as file:\n",
    "        for line in file:\n",
    "            line = line.strip()\n",
    "            line = line.split(\";\")\n",
    "            name, code, continent, year, gdp, population, life_expectancy = line\n",
    "            country = name + \";\" + code + \";\" + continent + \";\" + year + \";\" + gdp + \";\" + population + \";\" + life_expectancy\n",
    "            l_countries.append(country)\n",
    "            \n",
    "    return l_persons, l_countries\n",
    "\n",
    "def make_worksheet_1(wb, matr):\n",
    "    global l_persons\n",
    "    wb.create_sheet(\"1) Anrede\")\n",
    "    ws = wb[\"1) Anrede\"]\n",
    "    ws.append([\"Person\", \"\", \"\", \"\", \"\", \"\", \"\", \"\", \"\", \"Anrede\"])\n",
    "    num_persons = random.randint(520, 650)\n",
    "    l_selected_persons = random.sample(l_persons, num_persons)\n",
    "\n",
    "    for person in l_selected_persons:\n",
    "        ws.append([person])\n",
    "    \n",
    "    return wb\n",
    "\n",
    "def make_worksheet_2(wb):\n",
    "    global l_countries\n",
    "    wb.create_sheet(\"2) Länder\")\n",
    "    ws = wb[\"2) Länder\"]\n",
    "    for country in l_countries:\n",
    "        ws.append([country])\n",
    "\n",
    "    return wb\n",
    "\n",
    "def make_worksheet_3(wb):\n",
    "    wb.create_sheet(\"3) Mathe ist schön\")\n",
    "    ws = wb[\"3) Mathe ist schön\"]\n",
    "    ws.append([\"x\", \"y\", \"Formel\", \"-0,01 < Wert < 0,01\"])\n",
    "    for x in range(-150, 150):\n",
    "        for y in range(-150, 150):\n",
    "            ws.append([x/100, y/100])\n",
    "\n",
    "    return wb\n",
    "\n",
    "\n",
    "def make_workbook(filename, matr):\n",
    "    wb = Workbook()\n",
    "    wb = make_worksheet_1(wb, matr)\n",
    "    wb = make_worksheet_2(wb) \n",
    "    wb = make_worksheet_3(wb) \n",
    "    #wb = make_worksheet_4(wb)\n",
    "    del wb[\"Sheet\"]\n",
    "    return wb\n",
    "\n",
    "# Main Program\n",
    "l_matr = common.get_Matrikelnummern(\"Matrikelnummern.csv\")\n",
    "l_persons, l_countries = get_data()\n",
    "common.create_work_books_in_Excel_Files(l_matr, make_workbook)\n",
    "#common.create_work_books_in_Abgaben(l_matr, make_workbook)\n",
    "\n",
    "\n",
    "\n"
   ]
  },
  {
   "cell_type": "code",
   "execution_count": 41,
   "id": "6cdc8dcc-9457-4362-887d-0ffed405a330",
   "metadata": {},
   "outputs": [
    {
     "name": "stdout",
     "output_type": "stream",
     "text": [
      "/Users/jacobs/GIT/PC_Praktikum/12_Excel\n"
     ]
    }
   ],
   "source": [
    "import os\n",
    "os.chdir(\".\")\n",
    "print(os.getcwd())"
   ]
  },
  {
   "cell_type": "code",
   "execution_count": null,
   "id": "b5b4c0c8-f386-4820-928b-de4251b358bf",
   "metadata": {},
   "outputs": [],
   "source": []
  },
  {
   "cell_type": "code",
   "execution_count": null,
   "id": "ec6897f4-9b20-4a5a-a30d-b6045287a0dd",
   "metadata": {},
   "outputs": [],
   "source": []
  }
 ],
 "metadata": {
  "kernelspec": {
   "display_name": "Python 3 (ipykernel)",
   "language": "python",
   "name": "python3"
  },
  "language_info": {
   "codemirror_mode": {
    "name": "ipython",
    "version": 3
   },
   "file_extension": ".py",
   "mimetype": "text/x-python",
   "name": "python",
   "nbconvert_exporter": "python",
   "pygments_lexer": "ipython3",
   "version": "3.12.2"
  }
 },
 "nbformat": 4,
 "nbformat_minor": 5
}
