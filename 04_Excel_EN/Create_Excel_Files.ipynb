{
 "cells": [
  {
   "cell_type": "code",
   "execution_count": 4,
   "id": "9ee8ad62-6dc9-4105-b463-523bb4d84814",
   "metadata": {},
   "outputs": [
    {
     "name": "stdout",
     "output_type": "stream",
     "text": [
      "Go for it\n",
      "Excel-Files created\n"
     ]
    }
   ],
   "source": [
    "from openpyxl import Workbook\n",
    "from openpyxl.styles import Font\n",
    "import random\n",
    "\n",
    "# Die folgenden imports stammen aus der Datei ../00_common/common.py\n",
    "\n",
    "import sys\n",
    "sys.path.append(\"../00_common\")\n",
    "import common\n",
    "\n",
    "def make_worksheet_1(wb, matr):\n",
    "    wb.create_sheet(\"1) Orders\")\n",
    "    ws = wb[\"1) Orders\"]\n",
    "    line = [\"Orders\", \"\", \"\", \"\", \"\", \"\", \"Products\", \"\", \"\", \"Overview\", \"\", \"\", \"\", \"\", \"Total Turnover\"]\n",
    "    ws.append(line)\n",
    "    line = [\"Order\", \"Product\", \"Price\", \"Amount\", \"Total\", \"\", \"Product\", \"Price\", \"\", \"Product\", \"Orders\", \"Amount\", \\\n",
    "            \"Turnover\", \"\", \"Total 1\"]\n",
    "    ws.append(line)\n",
    "    anz_bestellungen = random.randint(150, 250)\n",
    "    for i in range(1, 21):\n",
    "        line = [i, random.randint(1, 20), \"\", random.randint(1, 20), \"\", \"\", i, round(random.randint(2000, 8000) / 100, 2)]\n",
    "        ws.append(line)\n",
    "    for i in range(21, anz_bestellungen):\n",
    "        line = [i, random.randint(1, 20), \"\", random.randint(1, 20)]\n",
    "        ws.append(line)\n",
    "\n",
    "    ws[\"O3\"].value = \"Total 2\"\n",
    "    ws[\"O4\"].value = \"Total 3\"\n",
    "\n",
    "    # Make fingerprint\n",
    "    ws[\"AS1\"] = int(matr)\n",
    "    return wb\n",
    "\n",
    "def make_worksheet_2(wb):\n",
    "    wb.create_sheet(\"2) Sales\")\n",
    "    ws = wb[\"2) Sales\"]\n",
    "    line = [\"List of all purchases\", \"\", \"\", \"\", \"\", \"\", \"\", \"\", \"Purchases per product and region\", \"\", \"\", \"\", \"\", \"\",\\\n",
    "            \"Turnover per product and region\", \"\", \"\", \"\", \"\", \"\", \"Turnover per product and region and employee\"]\n",
    "    ws.append(line)\n",
    "    line = [\"Purchase\", \"Employee\", \"Region\", \"Product\", \"Price\", \"Amount\", \"Total\", \"\", \\\n",
    "            \"\", \"NORTH\", \"SOUTH\", \"WEST\", \"EAST\", \"\", \"\", \"NORTH\", \"SOUTH\", \"WEST\", \"EAST\", \"\", \\\n",
    "            \"Employee\", \"\", \"\", \"NORTH\", \"SOUTH\", \"WEST\", \"EAST\"]\n",
    "    ws.append(line)\n",
    "    l_products = [\"Amsk\", \"Asla\", \"Bolle\", \"Borge\", \"Borsk\", \"Dorje\", \"Hirsla\", \"Kapping\", \"Lastak\", \"Molma\", \\\n",
    "                  \"Monsk\", \"Nilly\", \"Osibi\", \"Ovar\", \"Slumka\", \"Stak\", \"Tilda\", \"Trandje\", \"Trodka\", \"Vasse\"]\n",
    "    l_prices = [64.77, 71.47, 86.56, 64.84, 41.03, 54.33, 84.86, 43.78, 86.23, 63.65, \\\n",
    "                52.37, 64.23, 51.88, 43.93, 34.4, 65.02, 57.16, 70.04, 75.2, 46.15]\n",
    "\n",
    "    for i in range(1, 21):\n",
    "        rand_prod = random.randint(0, 19)\n",
    "        line = [i, random.randint(1,30), random.choice([\"NORTH\", \"SOUTH\", \"WEST\", \"EAST\"]), \\\n",
    "                l_products[rand_prod], l_prices[rand_prod], random.randint(1, 50), \\\n",
    "                \"\", \"\", l_products[i-1], \"\", \"\", \"\", \"\", \"\", l_products[i-1], \"\", \"\", \"\", \"\", \"\", \"\", \"\", l_products[i-1]]\n",
    "        ws.append(line)\n",
    "\n",
    "    for i in range(21, random.randint(250, 350)):\n",
    "        rand_prod = random.randint(0, 19)\n",
    "        line = [i, random.randint(1,30), random.choice([\"NORTH\", \"SOUTH\", \"WEST\", \"EAST\"]), \\\n",
    "                l_products[rand_prod], l_prices[rand_prod], random.randint(1, 50)]\n",
    "        ws.append(line)\n",
    "        \n",
    "    return wb\n",
    "\n",
    "\n",
    "def make_workbook(filename, matr):\n",
    "    wb = Workbook()\n",
    "    wb = make_worksheet_1(wb, matr)\n",
    "    wb = make_worksheet_2(wb) \n",
    "    del wb[\"Sheet\"]\n",
    "    return wb\n",
    "\n",
    "# Main Program\n",
    "l_matr = common.get_Matrikelnummern(\"Matrikelnummern.csv\")\n",
    "common.create_work_books_in_Excel_Files(l_matr, make_workbook)\n",
    "#common.create_work_books_in_Abgaben(l_matr, make_workbook)"
   ]
  },
  {
   "cell_type": "code",
   "execution_count": 3,
   "id": "6cdc8dcc-9457-4362-887d-0ffed405a330",
   "metadata": {},
   "outputs": [
    {
     "name": "stdout",
     "output_type": "stream",
     "text": [
      "/Users/jacobs/GIT/PC_Praktikum/04_Excel_EN\n"
     ]
    }
   ],
   "source": [
    "import os\n",
    "os.chdir(\".\")\n",
    "print(os.getcwd())"
   ]
  },
  {
   "cell_type": "code",
   "execution_count": null,
   "id": "b994ac48-89c1-414e-9cb3-e63223a4a9d2",
   "metadata": {},
   "outputs": [],
   "source": []
  }
 ],
 "metadata": {
  "kernelspec": {
   "display_name": "Python 3 (ipykernel)",
   "language": "python",
   "name": "python3"
  },
  "language_info": {
   "codemirror_mode": {
    "name": "ipython",
    "version": 3
   },
   "file_extension": ".py",
   "mimetype": "text/x-python",
   "name": "python",
   "nbconvert_exporter": "python",
   "pygments_lexer": "ipython3",
   "version": "3.12.2"
  }
 },
 "nbformat": 4,
 "nbformat_minor": 5
}
