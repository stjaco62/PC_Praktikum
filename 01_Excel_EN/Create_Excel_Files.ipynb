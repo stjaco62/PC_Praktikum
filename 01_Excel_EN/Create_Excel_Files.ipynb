{
 "cells": [
  {
   "cell_type": "code",
   "execution_count": 1,
   "id": "9ee8ad62-6dc9-4105-b463-523bb4d84814",
   "metadata": {},
   "outputs": [
    {
     "name": "stdout",
     "output_type": "stream",
     "text": [
      "Go for it\n",
      "Excel-Files created\n"
     ]
    }
   ],
   "source": [
    "from openpyxl import Workbook\n",
    "from openpyxl.styles import Font\n",
    "import random\n",
    "\n",
    "# The following imports check ../00_common/common.py\n",
    "\n",
    "import sys\n",
    "sys.path.append(\"../00_common\")\n",
    "import common\n",
    "\n",
    "def make_worksheet_1(wb, matr):\n",
    "    wb.create_sheet(\"1) Shopping List\")\n",
    "    ws = wb[\"1) Shopping List\"]\n",
    "    number_articles = random.randint(20, 40)\n",
    "\n",
    "    # Set Values\n",
    "    header = [\"Shopping List\"]\n",
    "    ws.append(header)\n",
    "    header = [\"Article\", \"Price\"]\n",
    "    ws.append(header)\n",
    "\n",
    "    l_articles = ['broccoli', 'spinach', 'potatoes', 'onions', 'tomatoes', 'cucumbers', 'courgettes', 'leeks', 'peppers', 'carrots', 'beetroot', 'parsnips', 'radishes', 'lettuce', 'lollo rosso', 'rocket', 'radicchio', 'blueberries', 'raspberries', 'apples', 'pears', 'peaches', 'nectarines', 'pomegranates', 'cherries', 'mango', 'grapes', 'avocado', 'olives', 'rice', 'quinoa', 'buckwheat', 'millet', 'rye', 'pasta', 'yellow lentils', 'green beans', 'kidney beans', 'chickpeas', 'mung beans', 'walnuts', 'cashew nuts', 'almonds', 'pecan nuts', 'Brazil nuts', 'macadamia nuts', 'sunflower seeds', 'pumpkin seeds', 'parsley', 'chives', 'coriander', 'basil', 'rosemary', 'lovage', 'cinnamon', 'ginger', 'turmeric', 'garlic', 'pepper', 'cloves', 'nutmeg', 'coffee', 'tea', 'bread', 'spaghetti', 'fusilli', 'farfale']\n",
    "    for i in range(number_articles):\n",
    "        article = random.choice(l_articles)\n",
    "        price = random.randint(200, 900) / 100\n",
    "        ws.append([article, price])\n",
    "\n",
    "    ws.append([\"\"])\n",
    "    tax = random.randint(9, 20) / 100\n",
    "    ws.append([tax])\n",
    "\n",
    "    # Set Number-Formats\n",
    "    cell_name = \"A\"+str(ws.max_row)\n",
    "    ws[cell_name].number_format = u'\"VAT \"0%'\n",
    "\n",
    "    # Make Fingerprint\n",
    "    ws[\"AA1\"].value = int(matr)\n",
    "    ws[\"AA1\"].font = Font(color=\"FFFFFF\")\n",
    "    \n",
    "    return wb\n",
    "\n",
    "def make_workbook(filename, matr):\n",
    "    wb = Workbook()\n",
    "    wb = make_worksheet_1(wb, matr)\n",
    "    # wb = make_worksheet_2(wb, matr)\n",
    "    del wb[\"Sheet\"]\n",
    "    return wb\n",
    "\n",
    "# Main Program\n",
    "l_matr = common.get_Matrikelnummern(\"Matrikelnummern.csv\")\n",
    "common.create_work_books_in_Excel_Files(l_matr, make_workbook)\n",
    "#common.create_work_books_in_Abgaben(l_matr, make_workbook)"
   ]
  },
  {
   "cell_type": "code",
   "execution_count": null,
   "id": "6cdc8dcc-9457-4362-887d-0ffed405a330",
   "metadata": {},
   "outputs": [],
   "source": [
    "import os\n",
    "os.chdir(\".\")\n",
    "print(os.getcwd())"
   ]
  },
  {
   "cell_type": "code",
   "execution_count": null,
   "id": "f09b0302-d55e-429a-a083-650524bba16a",
   "metadata": {},
   "outputs": [],
   "source": []
  }
 ],
 "metadata": {
  "kernelspec": {
   "display_name": "Python 3 (ipykernel)",
   "language": "python",
   "name": "python3"
  },
  "language_info": {
   "codemirror_mode": {
    "name": "ipython",
    "version": 3
   },
   "file_extension": ".py",
   "mimetype": "text/x-python",
   "name": "python",
   "nbconvert_exporter": "python",
   "pygments_lexer": "ipython3",
   "version": "3.12.2"
  }
 },
 "nbformat": 4,
 "nbformat_minor": 5
}
