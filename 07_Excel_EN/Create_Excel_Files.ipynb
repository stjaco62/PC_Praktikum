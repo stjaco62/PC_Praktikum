{
 "cells": [
  {
   "cell_type": "code",
   "execution_count": 1,
   "id": "9ee8ad62-6dc9-4105-b463-523bb4d84814",
   "metadata": {},
   "outputs": [
    {
     "name": "stdout",
     "output_type": "stream",
     "text": [
      "Go for it\n",
      "Excel-Files created\n"
     ]
    }
   ],
   "source": [
    "from openpyxl import Workbook\n",
    "from openpyxl.styles import Font\n",
    "import random\n",
    "\n",
    "# Die folgenden imports stammen aus der Datei ../00_common/common.py\n",
    "\n",
    "import sys\n",
    "sys.path.append(\"../00_common\")\n",
    "import common\n",
    "\n",
    "def get_data():\n",
    "    l_students = []\n",
    "    with open(\"persons_1000.csv\", \"r\", encoding='utf-8-sig') as file:\n",
    "        for line in file:\n",
    "            line = line.strip()\n",
    "            line = line.split(\";\")\n",
    "            line = tuple(line)\n",
    "            l_students.append(line)\n",
    "    l_emails = []\n",
    "    with open(\"emails_1000.csv\", \"r\", encoding=\"utf-8-sig\") as file:\n",
    "        for line in file:\n",
    "            line = line.strip()\n",
    "            l_emails.append(line)\n",
    "            \n",
    "    return l_students, l_emails\n",
    "\n",
    "def make_worksheet_1(wb, matr):\n",
    "    global l_students\n",
    "    wb.create_sheet(\"1) Students\")\n",
    "    ws = wb[\"1) Students\"]\n",
    "    line = [\"1stName\", \"Name\", \"Street\", \"Number\", \"Zip\", \"City\", \"Phone\"]\n",
    "    ws.append(line)\n",
    "    \n",
    "    # Create list of Students\n",
    "    num_students = random.randint(550, 650)\n",
    "    sublist_students = random.sample(l_students, num_students)\n",
    "    # Create double-name\n",
    "    rand1_num = random.randint(0, num_students - 1)\n",
    "    rand1_stud = sublist_students[rand1_num]\n",
    "    rand2_num = random.randint(0, num_students - 1)\n",
    "    rand2_stud = sublist_students[rand2_num]\n",
    "    new_student = rand1_stud[:2] + rand2_stud[2:]\n",
    "    rand_pos = random.randint(0, num_students - 1)\n",
    "    sublist_students.insert(rand_pos, new_student)\n",
    "    \n",
    "    for student in sublist_students:\n",
    "        fname, name, street, no, zip, city, tel = student\n",
    "        no = int(no)\n",
    "        zip = int(zip)\n",
    "        ws.append([fname, name, street, no, zip, city, tel])\n",
    "\n",
    "    # Hide the matrikelnumber\n",
    "    ws[\"BB3\"].value = matr\n",
    "    ws[\"BB3\"].font = Font(color=\"FFFFFF\")\n",
    "    return wb\n",
    "\n",
    "def make_worksheet_2(wb):\n",
    "    global l_emails\n",
    "    wb.create_sheet(\"2) E-Mail\")\n",
    "    ws = wb[\"2) E-Mail\"]\n",
    "\n",
    "    line = [\"E-Mail\", \"1stName\", \"Name\"]\n",
    "    ws.append(line)\n",
    "\n",
    "    # Create List of E-Mails\n",
    "    num_emails = random.randint(600, 700)\n",
    "    sublist_emails = random.sample(l_emails, num_emails)\n",
    "    for email in sublist_emails:\n",
    "        ws.append([email])\n",
    "\n",
    "    return wb\n",
    "\n",
    "def make_worksheet_3(wb):\n",
    "    global l_students\n",
    "    wb.create_sheet(\"3) Phone\")\n",
    "    ws = wb[\"3) Phone\"]\n",
    "    line = [\"Vorname\", \"Name\", \"Phone\"]\n",
    "    ws.append(line)\n",
    "    \n",
    "    # Create list of Students\n",
    "    num_students = random.randint(450, 600)\n",
    "    sublist_students = random.sample(l_students, num_students)\n",
    "    for student in sublist_students:\n",
    "        fname, name, street, no, zip, city, tel = student\n",
    "        ws.append([fname, name, tel])\n",
    "\n",
    "    return wb\n",
    "    \n",
    "def make_workbook(filename, matr):\n",
    "    wb = Workbook()\n",
    "    wb = make_worksheet_1(wb, matr)\n",
    "    wb = make_worksheet_2(wb) \n",
    "    wb = make_worksheet_3(wb) \n",
    "    del wb[\"Sheet\"]\n",
    "    return wb\n",
    "\n",
    "# Main Program\n",
    "l_matr = common.get_Matrikelnummern(\"Matrikelnummern.csv\")\n",
    "l_students, l_emails = get_data()\n",
    "common.create_work_books_in_Excel_Files(l_matr, make_workbook)\n",
    "#common.create_work_books_in_Abgaben(l_matr, make_workbook)"
   ]
  },
  {
   "cell_type": "code",
   "execution_count": 37,
   "id": "6cdc8dcc-9457-4362-887d-0ffed405a330",
   "metadata": {},
   "outputs": [
    {
     "name": "stdout",
     "output_type": "stream",
     "text": [
      "/Users/jacobs/GIT/PC_Praktikum/07_Excel\n"
     ]
    }
   ],
   "source": [
    "import os\n",
    "os.chdir(\".\")\n",
    "print(os.getcwd())"
   ]
  },
  {
   "cell_type": "code",
   "execution_count": null,
   "id": "1b83ce87-e9ee-4445-8380-8959afa25cd1",
   "metadata": {},
   "outputs": [],
   "source": []
  }
 ],
 "metadata": {
  "kernelspec": {
   "display_name": "Python 3 (ipykernel)",
   "language": "python",
   "name": "python3"
  },
  "language_info": {
   "codemirror_mode": {
    "name": "ipython",
    "version": 3
   },
   "file_extension": ".py",
   "mimetype": "text/x-python",
   "name": "python",
   "nbconvert_exporter": "python",
   "pygments_lexer": "ipython3",
   "version": "3.12.2"
  }
 },
 "nbformat": 4,
 "nbformat_minor": 5
}
