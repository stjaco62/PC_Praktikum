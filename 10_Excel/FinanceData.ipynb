{
 "cells": [
  {
   "cell_type": "code",
   "execution_count": 13,
   "id": "51eab9b3-1bd1-4fd5-a14f-31bd900d8cb9",
   "metadata": {},
   "outputs": [
    {
     "name": "stderr",
     "output_type": "stream",
     "text": [
      "[*********************100%***********************]  11 of 11 completed"
     ]
    },
    {
     "name": "stdout",
     "output_type": "stream",
     "text": [
      "Price            Close                                                         \\\n",
      "Ticker            AAPL        AMZN      BMW.DE      F       GOOGL         IBM   \n",
      "Date                                                                            \n",
      "2010-01-04    7.643214    6.695000   32.049999  10.28   15.684434  126.625237   \n",
      "2010-01-05    7.656429    6.734500   32.310001  10.96   15.615365  125.095604   \n",
      "2010-01-06    7.534643    6.612500   32.810001  11.37   15.221722  124.282982   \n",
      "2010-01-07    7.520714    6.500000   33.099998  11.66   14.867367  123.852776   \n",
      "2010-01-08    7.570714    6.676000   32.654999  11.69   15.065566  125.095604   \n",
      "...                ...         ...         ...    ...         ...         ...   \n",
      "2023-12-22  193.600006  153.419998  100.639999  12.35  141.490005  162.139999   \n",
      "2023-12-26  193.050003  153.410004         NaN  12.45  141.520004  163.210007   \n",
      "2023-12-27  193.149994  153.339996  100.400002  12.39  140.369995  163.460007   \n",
      "2023-12-28  193.580002  153.380005  100.440002  12.34  140.229996  163.750000   \n",
      "2023-12-29  192.529999  151.940002  100.779999  12.19  139.690002  163.550003   \n",
      "\n",
      "Price                                                                  \n",
      "Ticker         MBG.DE        META        MSFT        ORCL         SAP  \n",
      "Date                                                                   \n",
      "2010-01-04  31.232117         NaN   30.950001   24.850000   47.110001  \n",
      "2010-01-05  30.974276         NaN   30.959999   24.820000   46.820000  \n",
      "2010-01-06  30.982594         NaN   30.770000   24.459999   47.910000  \n",
      "2010-01-07  30.541767         NaN   30.450001   24.379999   49.169998  \n",
      "2010-01-08  30.720592         NaN   30.660000   24.680000   49.540001  \n",
      "...               ...         ...         ...         ...         ...  \n",
      "2023-12-22  62.849998  353.390015  374.579987  106.199997  152.699997  \n",
      "2023-12-26        NaN  354.829987  374.660004  106.190002  153.179993  \n",
      "2023-12-27  62.669998  357.829987  374.070007  105.940002  155.899994  \n",
      "2023-12-28  62.259998  358.320007  375.279999  106.250000  154.330002  \n",
      "2023-12-29  62.549999  353.959991  376.040009  105.430000  154.589996  \n",
      "\n",
      "[3614 rows x 11 columns]\n"
     ]
    },
    {
     "name": "stderr",
     "output_type": "stream",
     "text": [
      "\n"
     ]
    }
   ],
   "source": [
    "import yfinance as yf\n",
    "\n",
    "data = yf.download([\"AAPL\", \"IBM\", \"MSFT\", \"GOOGL\", \"META\", \"AMZN\", \"ORCL\", \"SAP\", \"BMW.DE\", \"MBG.DE\", \"F\"], start=\"2010-01-01\", end=\"2024-01-01\")\n",
    "\n",
    "#output_file = \"historical_data.csv\"\n",
    "#data.to_csv(output_file)\n",
    "\n",
    "close_data = data[['Close']]\n",
    "print(close_data)\n",
    "\n",
    "output_file = \"historical_data.csv\"\n",
    "close_data.to_csv(output_file)"
   ]
  },
  {
   "cell_type": "code",
   "execution_count": null,
   "id": "2e5a45de-bfc7-45a9-ab7c-ed3a0c8e89b5",
   "metadata": {},
   "outputs": [],
   "source": [
    "BMW.DE\n",
    "Mercedes-Benz Group AG\tMBG.DE\n",
    "Volkswagen AG\tVOW3.DE\n",
    "Audi AG\tNSU.DE\n",
    "Tesla Inc.\tTSLA\n",
    "Ford Motor Company\tF"
   ]
  }
 ],
 "metadata": {
  "kernelspec": {
   "display_name": "Python 3 (ipykernel)",
   "language": "python",
   "name": "python3"
  },
  "language_info": {
   "codemirror_mode": {
    "name": "ipython",
    "version": 3
   },
   "file_extension": ".py",
   "mimetype": "text/x-python",
   "name": "python",
   "nbconvert_exporter": "python",
   "pygments_lexer": "ipython3",
   "version": "3.12.2"
  }
 },
 "nbformat": 4,
 "nbformat_minor": 5
}
