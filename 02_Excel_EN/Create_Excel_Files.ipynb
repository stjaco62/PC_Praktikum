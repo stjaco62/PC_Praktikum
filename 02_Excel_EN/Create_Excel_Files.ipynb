{
 "cells": [
  {
   "cell_type": "code",
   "execution_count": 5,
   "id": "9ee8ad62-6dc9-4105-b463-523bb4d84814",
   "metadata": {},
   "outputs": [
    {
     "name": "stdout",
     "output_type": "stream",
     "text": [
      "Go for it\n",
      "Excel-Files created\n"
     ]
    }
   ],
   "source": [
    "from openpyxl import Workbook\n",
    "from openpyxl.styles import Font\n",
    "import random\n",
    "\n",
    "# Die folgenden imports stammen aus der Datei ../00_common/common.py\n",
    "\n",
    "import sys\n",
    "sys.path.append(\"../00_common\")\n",
    "import common\n",
    "\n",
    "def make_worksheet_1(wb, matr):\n",
    "    wb.create_sheet(\"1) Formula\")\n",
    "    ws = wb[\"1) Formula\"]\n",
    "    # Enter Values\n",
    "    ws[\"A1\"].value = \"Formula\"\n",
    "    ws[\"B1\"].value = random.choice([\"a*b\", \"2*a*b\", \"2*a+b\", \"a*a+b\", \"a+b*b\", \"a+a*b+b\", \"a+2*b\", \"a*a+b*b\"])\n",
    "    ws[\"C2\"].value = \"a\"\n",
    "    ws[\"A4\"].value = \"b\"\n",
    "    max_w = random.randint(15, 25)\n",
    "    step = random.choice([1, 2, 3, 5, 10])\n",
    "    i = 1\n",
    "    for col in ws.iter_cols(min_row = 3, max_row = 3, min_col = 3, max_col = max_w):\n",
    "        for cell in col:\n",
    "            cell.value = step * i\n",
    "        i += 1\n",
    "    i = 1\n",
    "    for row in ws.iter_rows(min_col = 2, max_col = 2, min_row = 4, max_row = max_w):\n",
    "        for cell in row:\n",
    "            cell.value = step * i\n",
    "        i += 1\n",
    "\n",
    "    # Make Fingerprint\n",
    "    ws[\"BB3\"].value = int(matr)\n",
    "    ws[\"BB3\"].font = Font(color=\"FFFFFF\")\n",
    "\n",
    "    return wb\n",
    "\n",
    "def make_worksheet_2(wb):\n",
    "    wb.create_sheet(\"2) Exam\")\n",
    "    ws = wb[\"2) Exam\"]\n",
    "\n",
    "    # Enter Values\n",
    "    marks = [\"\", \"\", 1, 1.3, 1.7, 2, 2.3, 2.7, 3, 3.3, 3.7, 4, 5]\n",
    "    weight1 = random.choice([0.1, 0.2, 0.3, 0.4])\n",
    "    weight2 = random.choice([0.1, 0.2, 0.3, 0.4])\n",
    "    weight3 = 1 - weight1 - weight2\n",
    "\n",
    "    line = [\"Part\", \"Weight\", \"\", \"Workshop\", random.choice(marks[2:])]\n",
    "    ws.append(line)\n",
    "    line = [\"Workshop\", weight1]\n",
    "    ws.append(line)\n",
    "    line = [\"Exam 1\", weight2]\n",
    "    ws.append(line)\n",
    "    line = [\"Exam 2\", weight3]\n",
    "    ws.append(line)\n",
    "    line = [\"\", \"\", \"Exam 1\"]\n",
    "    ws.append(line)\n",
    "    ws.append(marks)\n",
    "    line = [\"Exam 2\", 1.0]\n",
    "    ws.append(line)\n",
    "    for i in range(3, len(marks)):\n",
    "        line = [\"\", marks[i]]\n",
    "        ws.append(line)\n",
    "\n",
    "    return wb  \n",
    "\n",
    "def make_workbook(filename, matr):\n",
    "    wb = Workbook()\n",
    "    wb = make_worksheet_1(wb, matr)\n",
    "    wb = make_worksheet_2(wb) \n",
    "    del wb[\"Sheet\"]\n",
    "    return wb\n",
    "\n",
    "# Main Program\n",
    "l_matr = common.get_Matrikelnummern(\"Matrikelnummern.csv\")\n",
    "common.create_work_books_in_Excel_Files(l_matr, make_workbook)\n",
    "#common.create_work_books_in_Abgaben(l_matr, make_workbook)"
   ]
  },
  {
   "cell_type": "code",
   "execution_count": 4,
   "id": "6cdc8dcc-9457-4362-887d-0ffed405a330",
   "metadata": {},
   "outputs": [
    {
     "name": "stdout",
     "output_type": "stream",
     "text": [
      "/Users/jacobs/GIT/PC_Praktikum/02_Excel_EN\n"
     ]
    }
   ],
   "source": [
    "import os\n",
    "os.chdir(\".\")\n",
    "print(os.getcwd())"
   ]
  },
  {
   "cell_type": "code",
   "execution_count": null,
   "id": "a0cd600d-0418-4f1a-bb15-055f0f447605",
   "metadata": {},
   "outputs": [],
   "source": []
  }
 ],
 "metadata": {
  "kernelspec": {
   "display_name": "Python 3 (ipykernel)",
   "language": "python",
   "name": "python3"
  },
  "language_info": {
   "codemirror_mode": {
    "name": "ipython",
    "version": 3
   },
   "file_extension": ".py",
   "mimetype": "text/x-python",
   "name": "python",
   "nbconvert_exporter": "python",
   "pygments_lexer": "ipython3",
   "version": "3.12.2"
  }
 },
 "nbformat": 4,
 "nbformat_minor": 5
}
