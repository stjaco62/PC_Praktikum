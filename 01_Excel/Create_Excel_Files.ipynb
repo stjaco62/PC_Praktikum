{
 "cells": [
  {
   "cell_type": "code",
   "execution_count": 2,
   "id": "9ee8ad62-6dc9-4105-b463-523bb4d84814",
   "metadata": {},
   "outputs": [
    {
     "name": "stdout",
     "output_type": "stream",
     "text": [
      "Go for it\n",
      "Excel-Files created\n"
     ]
    }
   ],
   "source": [
    "from openpyxl import Workbook\n",
    "from openpyxl.styles import Font\n",
    "import random\n",
    "\n",
    "# Die folgenden imports stammen aus der Datei ../00_common/common.py\n",
    "\n",
    "import sys\n",
    "sys.path.append(\"../00_common\")\n",
    "import common\n",
    "\n",
    "def make_worksheet_1(wb, matr):\n",
    "    wb.create_sheet(\"1) Einkaufsliste\")\n",
    "    ws = wb[\"1) Einkaufsliste\"]\n",
    "    number_articles = random.randint(20, 40)\n",
    "\n",
    "    # Set Values\n",
    "    header = [\"Einkaufsliste\"]\n",
    "    ws.append(header)\n",
    "    header = [\"Artikel\", \"Preis\"]\n",
    "    ws.append(header)\n",
    "\n",
    "    l_articles = ['Brokkoli', 'Spinat', 'Kartoffeln', 'Zwiebeln', 'Tomaten', 'Gurken', 'Zucchini', 'Porree', 'Paprika', 'Karotten', 'Rote Bete', 'Pastinaken', 'Rettich', 'Radieschen', 'Kopfsalat', 'Lollo Rosso', 'Rucola', 'Feldsalat', 'Radicchio', 'Blaubeeren', 'Himbeeren', 'Äpfel', 'Birnen', 'Pfirsiche', 'Nektarinen', 'Granatapfel', 'Kirschen', 'Mango', 'Weintrauben', 'Avocado', 'Oliven', 'Reis', 'Quinoa', 'Buchweizen', 'Hirse', 'Roggen', 'Pasta', 'gelbe Linsen', 'grüne Bohnen', 'Kidney Bohnen', 'Kichererbsen', 'Mungobohnen', 'Walnüsse', 'Cashewnüsse', 'Mandeln', 'Pekanüsse', 'Paranüsse', 'Macadamianüsse', 'Sonnenblumenkerne', 'Kürbiskerne', 'Petersilie', 'Schnittlauch', 'Koriander', 'Basilikum', 'Rosmarin', 'Liebstöckl', 'Zimt', 'Ingwer', 'Kurkuma', 'Knoblauch', 'Pfeffer', 'Nelken', 'Muskatnuss', 'Kaffee', 'Tee', 'Brot', 'Spaghetti', 'Fusili', 'Farfale']\n",
    "    for i in range(number_articles):\n",
    "        article = random.choice(l_articles)\n",
    "        price = random.randint(200, 900) / 100\n",
    "        ws.append([article, price])\n",
    "\n",
    "    ws.append([\"\"])\n",
    "    tax = random.randint(9, 20) / 100\n",
    "    ws.append([tax])\n",
    "\n",
    "    # Set Number-Formats\n",
    "    cell_name = \"A\"+str(ws.max_row)\n",
    "    ws[cell_name].number_format = u'\"MwSt. \"0%'\n",
    "\n",
    "    # Make Fingerprint\n",
    "    ws[\"AA1\"].value = int(matr)\n",
    "    ws[\"AA1\"].font = Font(color=\"FFFFFF\")\n",
    "    \n",
    "    return wb\n",
    "\n",
    "def make_workbook(filename, matr):\n",
    "    wb = Workbook()\n",
    "    wb = make_worksheet_1(wb, matr)\n",
    "    # wb = make_worksheet_2(wb, matr)\n",
    "    del wb[\"Sheet\"]\n",
    "    return wb\n",
    "\n",
    "# Main Program\n",
    "l_matr = common.get_Matrikelnummern(\"Matrikelnummern.csv\")\n",
    "#common.create_work_books_in_Excel_Files(l_matr, make_workbook)\n",
    "common.create_work_books_in_Abgaben(l_matr, make_workbook)"
   ]
  },
  {
   "cell_type": "code",
   "execution_count": null,
   "id": "6cdc8dcc-9457-4362-887d-0ffed405a330",
   "metadata": {},
   "outputs": [],
   "source": [
    "import os\n",
    "os.chdir(\".\")\n",
    "print(os.getcwd())"
   ]
  },
  {
   "cell_type": "code",
   "execution_count": null,
   "id": "03e60073-f843-4f5c-8f49-1121b9435f2e",
   "metadata": {},
   "outputs": [],
   "source": []
  },
  {
   "cell_type": "code",
   "execution_count": null,
   "id": "7205e88c-9312-48d0-b712-3f7354c2d6a5",
   "metadata": {},
   "outputs": [],
   "source": []
  }
 ],
 "metadata": {
  "kernelspec": {
   "display_name": "Python 3 (ipykernel)",
   "language": "python",
   "name": "python3"
  },
  "language_info": {
   "codemirror_mode": {
    "name": "ipython",
    "version": 3
   },
   "file_extension": ".py",
   "mimetype": "text/x-python",
   "name": "python",
   "nbconvert_exporter": "python",
   "pygments_lexer": "ipython3",
   "version": "3.12.2"
  }
 },
 "nbformat": 4,
 "nbformat_minor": 5
}
