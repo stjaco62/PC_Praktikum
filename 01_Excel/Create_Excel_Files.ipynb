{
 "cells": [
  {
   "cell_type": "code",
   "execution_count": 7,
   "id": "9ee8ad62-6dc9-4105-b463-523bb4d84814",
   "metadata": {},
   "outputs": [
    {
     "name": "stdout",
     "output_type": "stream",
     "text": [
      "Go for it\n",
      "Excel-Files created\n"
     ]
    }
   ],
   "source": [
    "import os\n",
    "from openpyxl import Workbook\n",
    "import random\n",
    "\n",
    "def get_Matrikelnummern(filename):\n",
    "    # Datei öffnen und eine Liste dieser Matrikelnummern erzeugen\n",
    "    l_matr = []\n",
    "    with open(filename, \"r\", encoding=\"utf-8-sig\") as file:\n",
    "        for line in file:\n",
    "            line = line.strip()\n",
    "            matr = int(line)\n",
    "            l_matr.append(matr)\n",
    "            l_matr.sort()\n",
    "    return l_matr\n",
    "\n",
    "def make_exercise_1_1(wb):\n",
    "    wb.create_sheet(\"1) Einkaufsliste\")\n",
    "    ws = wb[\"1) Einkaufsliste\"]\n",
    "    number_articles = random.randint(20, 40)\n",
    "\n",
    "    # Set Values\n",
    "    header = [\"Einkaufsliste\"]\n",
    "    ws.append(header)\n",
    "    header = [\"Artikel\", \"Preis\"]\n",
    "    ws.append(header)\n",
    "\n",
    "    l_articles = ['Brokkoli', 'Spinat', 'Kartoffeln', 'Zwiebeln', 'Tomaten', 'Gurken', 'Zucchini', 'Porree', 'Paprika', 'Karotten', 'Rote Bete', 'Pastinaken', 'Rettich', 'Radieschen', 'Kopfsalat', 'Lollo Rosso', 'Rucola', 'Feldsalat', 'Radicchio', 'Blaubeeren', 'Himbeeren', 'Äpfel', 'Birnen', 'Pfirsiche', 'Nektarinen', 'Granatapfel', 'Kirschen', 'Mango', 'Weintrauben', 'Avocado', 'Oliven', 'Reis', 'Quinoa', 'Buchweizen', 'Hirse', 'Roggen', 'Pasta', 'gelbe Linsen', 'grüne Bohnen', 'Kidney Bohnen', 'Kichererbsen', 'Mungobohnen', 'Walnüsse', 'Cashewnüsse', 'Mandeln', 'Pekanüsse', 'Paranüsse', 'Macadamianüsse', 'Sonnenblumenkerne', 'Kürbiskerne', 'Petersilie', 'Schnittlauch', 'Koriander', 'Basilikum', 'Rosmarin', 'Liebstöckl', 'Zimt', 'Ingwer', 'Kurkuma', 'Knoblauch', 'Pfeffer', 'Nelken', 'Muskatnuss', 'Kaffee', 'Tee', 'Brot', 'Spaghetti', 'Fusili', 'Farfale']\n",
    "    for i in range(number_articles):\n",
    "        article = random.choice(l_articles)\n",
    "        price = random.randint(200, 900) / 100\n",
    "        ws.append([article, price])\n",
    "\n",
    "    ws.append([\"\"])\n",
    "    tax = random.randint(9, 20) / 100\n",
    "    ws.append([tax])\n",
    "\n",
    "    # Set Number-Formats\n",
    "    cell_name = \"A\"+str(ws.max_row)\n",
    "    ws[cell_name].number_format = u'\"MwSt. \"0%'\n",
    "\n",
    "    # Some Formatting\n",
    "    return wb\n",
    "\n",
    "\n",
    "def create_excel_exercises(l_matr):\n",
    "    # Create a directory called \"Excel_Files\" and all the Excel-Files within this directory\n",
    "    if os.path.exists(\"Abgaben\"):\n",
    "        print(\"Directory named 'Abgaben' already exists, no files created.\")\n",
    "    else:\n",
    "        print(\"Go for it\")\n",
    "        os.makedirs(\"Abgaben\")\n",
    "        os.chdir(\"Abgaben\")\n",
    "        for matr in l_matr:\n",
    "            matr = str(matr)\n",
    "            os.makedirs(matr)\n",
    "            os.chdir(matr)\n",
    "            filename = matr + \".xlsx\"\n",
    "            wb = Workbook()\n",
    "            wb = make_exercise_1_1(wb)\n",
    "            del wb[\"Sheet\"]\n",
    "            wb.save(filename)\n",
    "            os.chdir(\"..\")\n",
    "        os.chdir(\"..\")\n",
    "        print(\"Excel-Files created\")\n",
    "\n",
    "# Main Program\n",
    "l_matr = get_Matrikelnummern(\"Matrikelnummern.csv\")\n",
    "create_excel_exercises(l_matr)"
   ]
  },
  {
   "cell_type": "code",
   "execution_count": 6,
   "id": "6cdc8dcc-9457-4362-887d-0ffed405a330",
   "metadata": {},
   "outputs": [
    {
     "name": "stdout",
     "output_type": "stream",
     "text": [
      "/Users/jacobs/GIT/PC_Praktikum/01_Excel\n"
     ]
    }
   ],
   "source": [
    "os.chdir(\"01_Excel\")\n",
    "print(os.getcwd())"
   ]
  },
  {
   "cell_type": "code",
   "execution_count": null,
   "id": "03e60073-f843-4f5c-8f49-1121b9435f2e",
   "metadata": {},
   "outputs": [],
   "source": []
  }
 ],
 "metadata": {
  "kernelspec": {
   "display_name": "Python 3 (ipykernel)",
   "language": "python",
   "name": "python3"
  },
  "language_info": {
   "codemirror_mode": {
    "name": "ipython",
    "version": 3
   },
   "file_extension": ".py",
   "mimetype": "text/x-python",
   "name": "python",
   "nbconvert_exporter": "python",
   "pygments_lexer": "ipython3",
   "version": "3.12.2"
  }
 },
 "nbformat": 4,
 "nbformat_minor": 5
}
