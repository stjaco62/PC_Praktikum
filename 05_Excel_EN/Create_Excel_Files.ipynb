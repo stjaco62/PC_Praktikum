{
 "cells": [
  {
   "cell_type": "code",
   "execution_count": 1,
   "id": "9ee8ad62-6dc9-4105-b463-523bb4d84814",
   "metadata": {},
   "outputs": [
    {
     "name": "stdout",
     "output_type": "stream",
     "text": [
      "Go for it\n",
      "Excel-Files created\n"
     ]
    }
   ],
   "source": [
    "from openpyxl import Workbook\n",
    "from openpyxl.styles import Font\n",
    "import random\n",
    "\n",
    "# Die folgenden imports stammen aus der Datei ../00_common/common.py\n",
    "\n",
    "import sys\n",
    "sys.path.append(\"../00_common\")\n",
    "import common\n",
    "\n",
    "def make_worksheet_1(wb, matr):\n",
    "    wb.create_sheet(\"1) Monthly Instalment\")\n",
    "    ws = wb[\"1) Monthly Instalment\"]\n",
    "    loan = random.randint(1, 10) * 10000\n",
    "    line = [\"Monthly Instalment\", \"\", \"\", \"Loan:\", loan, \"\", \"\", \"\", \"\", \"\", \"Sum\"]\n",
    "    ws.append(line)\n",
    "    line = [\"Duration\", \"Interest Rate\", \"\", \"\", \"\", \"\", \"\", \"\", \"\", \"\", \"Duration\", \"Interest Rate\"]\n",
    "    ws.append(line)\n",
    "    l_zs = [[0.03, 0.032, 0.034, 0.036, 0.038, 0.04, 0.042, 0.044], \\\n",
    "            [0.04, 0.042, 0.044, 0.046, 0.048, 0.05, 0.052, 0.054], \\\n",
    "            [0.02, 0.022, 0.024, 0.026, 0.028, 0.03, 0.032, 0.034], \\\n",
    "            [0.05, 0.052, 0.054, 0.056, 0.058, 0.06, 0.062, 0.064], \\\n",
    "            [0.03, 0.031, 0.032, 0.033, 0.034, 0.035, 0.036, 0.037], \\\n",
    "            [0.04, 0.041, 0.042, 0.043, 0.044, 0.045, 0.046, 0.047], \\\n",
    "            [0.05, 0.051, 0.052, 0.053, 0.054, 0.055, 0.056, 0.057], \\\n",
    "            [0.02, 0.021, 0.022, 0.023, 0.024, 0.025, 0.026, 0.027]]\n",
    "    zinssatz = random.choice(l_zs)\n",
    "    line = [\"Years\"] + zinssatz + [\"\", \"Years\"] + zinssatz\n",
    "    ws.append(line)\n",
    "\n",
    "    min_year = random.randint(3, 8)\n",
    "    num_year = random.randint(7, 15)\n",
    "\n",
    "    for year in range(min_year, min_year + num_year):\n",
    "        line = [year, \"\", \"\", \"\", \"\", \"\", \"\", \"\", \"\", \"\", year]\n",
    "        ws.append(line)\n",
    "    \n",
    "    # Make fingerprint\n",
    "    ws[\"AS1\"] = int(matr)\n",
    "    return wb\n",
    "\n",
    "def make_worksheet_2(wb):\n",
    "    wb.create_sheet(\"2) Interest and Repayment\")\n",
    "    ws = wb[\"2) Interest and Repayment\"]\n",
    "\n",
    "    loan = random.randint(5, 30) * 10000\n",
    "    line = [\"Loan\", loan]\n",
    "    ws.append(line)\n",
    "    zinssatz = random.randint(3, 9) * 0.01\n",
    "    line = [\"Interest Rate\", zinssatz]\n",
    "    ws.append(line)\n",
    "    laufzeit = random.randint(8, 20)\n",
    "    line = [\"Duration\", laufzeit]\n",
    "    ws.append(line)\n",
    "    line = [\"Remaining Debt\", 0]\n",
    "    ws.append(line)\n",
    "    line = []\n",
    "    ws.append(line)\n",
    "    line = [\"Year\", \"Interest\", \"Repayment\", \"Sum\", \"Remaining Debt\"]\n",
    "    ws.append(line)\n",
    "    for i in range(1, 4):\n",
    "        ws.append([i])\n",
    "    ws.append([\"Delete this text and add the years up to the value given in cell B3\"])\n",
    "    \n",
    "    return wb\n",
    "\n",
    "def make_worksheet_3(wb):\n",
    "    wb.create_sheet(\"3) Depreciation\")\n",
    "    ws = wb[\"3) Depreciation\"]\n",
    "\n",
    "    line = [\"Straight-Line Depreciation\", \"\", \"\", \"\", \"\", \"Sum-of-Years-Digits Depreciation\", \"\", \"\", \"\", \"\", \"Units-of-Production Depreciation\"]\n",
    "    ws.append(line)  \n",
    "    awert = random.randint(1, 6) * 100000\n",
    "    ws.append([\"Acquisition Value\", awert, \"\", \"\", \"\", \"Acquisition Value\", awert, \"\", \"\", \"\", \"Acquisition Value\", awert])\n",
    "    ws.append([\"Salvage Value\", 0, \"\", \"\", \"\", \"Salvage Value\", 0, \"\", \"\", \"\", \"Salvage Value\", 0])\n",
    "    jahre = random.randint(8, 15)\n",
    "    ws.append([\"Service Life\", jahre, \"\", \"\", \"\", \"Service Life\", jahre, \"\", \"\", \"\", \"Service Life\", jahre])\n",
    "    stunden_jahr = []\n",
    "    for i in range(jahre):\n",
    "        stunden_jahr.append(random.randint(2, 5) * 1000)\n",
    "    stunden = sum(stunden_jahr)\n",
    "    ws.append([\"\", \"\", \"\", \"\", \"\", \"\", \"\", \"\", \"\", \"\", \"Total Performance\", stunden])\n",
    "    ws.append([\"\"])\n",
    "    ws.append([\"Year\", \"Book Value\", \"Depreciation\", \"Salvage Value\", \"\", \"Year\", \"Book Value\", \"Depreciation\", \"Salvage Value\", \"\", \"Year\", \"Performance\", \"Book Value\", \"Depreciation\", \"Salvage Value\"])\n",
    "    for i in range(jahre):\n",
    "        line = [i + 1, \"\", \"\", \"\", \"\", i + 1, \"\", \"\", \"\", \"\", i + 1, stunden_jahr[i]]\n",
    "        ws.append(line)\n",
    "               \n",
    "    return wb\n",
    "\n",
    "def make_workbook(filename, matr):\n",
    "    wb = Workbook()\n",
    "    wb = make_worksheet_1(wb, matr)\n",
    "    wb = make_worksheet_2(wb) \n",
    "    wb = make_worksheet_3(wb)\n",
    "    del wb[\"Sheet\"]\n",
    "    return wb\n",
    "\n",
    "# Main Program\n",
    "l_matr = common.get_Matrikelnummern(\"Matrikelnummern.csv\")\n",
    "common.create_work_books_in_Excel_Files(l_matr, make_workbook)\n",
    "#common.create_work_books_in_Abgaben(l_matr, make_workbook)"
   ]
  },
  {
   "cell_type": "code",
   "execution_count": 6,
   "id": "6cdc8dcc-9457-4362-887d-0ffed405a330",
   "metadata": {},
   "outputs": [
    {
     "name": "stdout",
     "output_type": "stream",
     "text": [
      "/Users/jacobs/GIT/PC_Praktikum/05_Excel EN\n"
     ]
    }
   ],
   "source": [
    "import os\n",
    "os.chdir(\".\")\n",
    "print(os.getcwd())"
   ]
  },
  {
   "cell_type": "code",
   "execution_count": null,
   "id": "62359a1f-6196-4380-b9c4-bac23a19a990",
   "metadata": {},
   "outputs": [],
   "source": []
  },
  {
   "cell_type": "code",
   "execution_count": null,
   "id": "772bab2b-4105-482f-a571-dbcfc0837b02",
   "metadata": {},
   "outputs": [],
   "source": []
  }
 ],
 "metadata": {
  "kernelspec": {
   "display_name": "Python 3 (ipykernel)",
   "language": "python",
   "name": "python3"
  },
  "language_info": {
   "codemirror_mode": {
    "name": "ipython",
    "version": 3
   },
   "file_extension": ".py",
   "mimetype": "text/x-python",
   "name": "python",
   "nbconvert_exporter": "python",
   "pygments_lexer": "ipython3",
   "version": "3.12.2"
  }
 },
 "nbformat": 4,
 "nbformat_minor": 5
}
